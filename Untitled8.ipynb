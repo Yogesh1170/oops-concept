{
 "cells": [
  {
   "cell_type": "code",
   "execution_count": 6,
   "id": "443cd06f-2aee-4ddf-81a8-d0f8fb47646e",
   "metadata": {},
   "outputs": [],
   "source": [
    "'''Q1. What is Abstraction in OOps? Explain with an example.\n",
    "Abstraction is used to hide the internal functionality of the function from the users. ''' \n",
    "import abc\n",
    "class pwskills:\n",
    "    \n",
    "    @abc.abstractmethod\n",
    "    def students_detials(self):\n",
    "        pass\n",
    "    \n",
    "    @abc.abstractmethod\n",
    "    def student_assignemnt(self):\n",
    "        pass\n",
    "    \n",
    "    @abc.abstractmethod\n",
    "    def student_marks(self):\n",
    "        pass\n"
   ]
  },
  {
   "cell_type": "code",
   "execution_count": 49,
   "id": "6b8e165d-930e-45e8-a5a4-f0a588a9c3ab",
   "metadata": {},
   "outputs": [],
   "source": [
    "class student_details(pwskills):\n",
    "    \n",
    "    def student_detalis(self):\n",
    "        return \"for details\"\n",
    "    def student_assignment(self):\n",
    "        return 'for assignment' "
   ]
  },
  {
   "cell_type": "code",
   "execution_count": 50,
   "id": "aeeacf2c-ad8c-4297-a479-37ae6101248e",
   "metadata": {},
   "outputs": [],
   "source": [
    "class data_science(pwskills):\n",
    "    def student_detalis(self):\n",
    "        return 'details for data'\n",
    "    def student_assignment(self):\n",
    "        return'assignment for data'"
   ]
  },
  {
   "cell_type": "code",
   "execution_count": 51,
   "id": "5b1c1daa-de49-4c69-9faa-76091fd2f6f7",
   "metadata": {},
   "outputs": [
    {
     "data": {
      "text/plain": [
       "'for details'"
      ]
     },
     "execution_count": 51,
     "metadata": {},
     "output_type": "execute_result"
    }
   ],
   "source": [
    "a = student_details()\n",
    "a.student_detalis()"
   ]
  },
  {
   "cell_type": "code",
   "execution_count": 52,
   "id": "8e53f404-209f-4120-acd5-3ea86202a530",
   "metadata": {},
   "outputs": [
    {
     "data": {
      "text/plain": [
       "'details for data'"
      ]
     },
     "execution_count": 52,
     "metadata": {},
     "output_type": "execute_result"
    }
   ],
   "source": [
    "b = data_science()\n",
    "b.student_detalis()"
   ]
  },
  {
   "cell_type": "code",
   "execution_count": 44,
   "id": "d8d61070-baf3-4933-8774-3bb5f5104197",
   "metadata": {},
   "outputs": [],
   "source": [
    "'''Differentiate between Abstraction and Encapsulation. Explain with an example.'''\n",
    "'''Abstraction is the method of hiding the unwanted information. Whereas encapsulation is a method to hide the data in a single entity or unit along with a method\n",
    "to protect information from outside.'''\n",
    "#example of encapsulation\n",
    "class bank_account():\n",
    "    def __init__ (self,balance):\n",
    "        self.__balance=balance\n",
    "    def deposite(self,amount):\n",
    "        self.__balance=self.__balance+amount\n",
    "    def withdrawl(self,amount):\n",
    "        if self.__balance>=amount:\n",
    "            self.__balance=self.__balance-amount\n",
    "            return 'true'\n",
    "        else:\n",
    "            return 'false'\n",
    "    def check_balance(self):\n",
    "        return self.__balance\n"
   ]
  },
  {
   "cell_type": "code",
   "execution_count": 45,
   "id": "c4929fea-db87-4b58-903e-a3aad430b88b",
   "metadata": {},
   "outputs": [],
   "source": [
    "ram = bank_account(5000)"
   ]
  },
  {
   "cell_type": "code",
   "execution_count": 46,
   "id": "50d81f26-9c2d-4dd4-8895-345d75d835db",
   "metadata": {},
   "outputs": [],
   "source": [
    "ram.deposite(5000)"
   ]
  },
  {
   "cell_type": "code",
   "execution_count": 47,
   "id": "41c8483b-6bf0-402d-92c7-111cfaf27127",
   "metadata": {},
   "outputs": [
    {
     "data": {
      "text/plain": [
       "'true'"
      ]
     },
     "execution_count": 47,
     "metadata": {},
     "output_type": "execute_result"
    }
   ],
   "source": [
    "ram.withdrawl(2000)"
   ]
  },
  {
   "cell_type": "code",
   "execution_count": 48,
   "id": "d49aca4e-a3db-4327-931d-dd3dff99d08d",
   "metadata": {},
   "outputs": [
    {
     "data": {
      "text/plain": [
       "8000"
      ]
     },
     "execution_count": 48,
     "metadata": {},
     "output_type": "execute_result"
    }
   ],
   "source": [
    "ram.check_balance()"
   ]
  },
  {
   "cell_type": "code",
   "execution_count": 53,
   "id": "69d601fd-a8fe-4905-a9d3-23a30147fcf4",
   "metadata": {},
   "outputs": [],
   "source": [
    "#example of abstraction\n",
    "import abc\n",
    "class pwskills:\n",
    "    \n",
    "    @abc.abstractmethod\n",
    "    def students_detials(self):\n",
    "        pass\n",
    "    \n",
    "    @abc.abstractmethod\n",
    "    def student_assignemnt(self):\n",
    "        pass\n",
    "    \n",
    "    @abc.abstractmethod\n",
    "    def student_marks(self):\n",
    "        pass\n",
    "\n"
   ]
  },
  {
   "cell_type": "code",
   "execution_count": 54,
   "id": "793425f4-be41-4938-8246-4d6db3097a3e",
   "metadata": {},
   "outputs": [],
   "source": [
    "class student_details(pwskills):\n",
    "    \n",
    "    def student_detalis(self):\n",
    "        return \"for details\"\n",
    "    def student_assignment(self):\n",
    "        return 'for assignment' "
   ]
  },
  {
   "cell_type": "code",
   "execution_count": 55,
   "id": "2658b687-a9d6-4449-bbad-7a60b488a89c",
   "metadata": {},
   "outputs": [],
   "source": [
    "class data_science(pwskills):\n",
    "    def student_detalis(self):\n",
    "        return 'details for data'\n",
    "    def student_assignment(self):\n",
    "        return'assignment for data'"
   ]
  },
  {
   "cell_type": "code",
   "execution_count": 56,
   "id": "86edb6d5-0abc-4691-9592-d060417dcfd9",
   "metadata": {},
   "outputs": [],
   "source": [
    "b = student_details()"
   ]
  },
  {
   "cell_type": "code",
   "execution_count": 57,
   "id": "e3a69d35-c5b5-4f4b-8e7f-e2500d1e96c4",
   "metadata": {},
   "outputs": [
    {
     "data": {
      "text/plain": [
       "'for details'"
      ]
     },
     "execution_count": 57,
     "metadata": {},
     "output_type": "execute_result"
    }
   ],
   "source": [
    "b.student_detalis()\n"
   ]
  },
  {
   "cell_type": "code",
   "execution_count": 58,
   "id": "5083f0fa-1684-44b0-9cf5-64443df5cb7a",
   "metadata": {},
   "outputs": [
    {
     "data": {
      "text/plain": [
       "'for assignment'"
      ]
     },
     "execution_count": 58,
     "metadata": {},
     "output_type": "execute_result"
    }
   ],
   "source": [
    "b.student_assignment()"
   ]
  },
  {
   "cell_type": "code",
   "execution_count": 59,
   "id": "6b1afbdb-84c9-466a-b903-6c5639523bc5",
   "metadata": {},
   "outputs": [],
   "source": [
    "#Q3. What is abc module in python? Why is it used?\n",
    "#The 'abc' module in Python library provides the infrastructure for defining custom abstract base classes. \n",
    "#'abc' works by marking methods of the base class as abstract. This is done by @absttractmethod decorator"
   ]
  },
  {
   "cell_type": "code",
   "execution_count": 60,
   "id": "7b66af19-f30e-4614-ba06-03e7da8be61a",
   "metadata": {},
   "outputs": [],
   "source": [
    "#Q4. How can we achieve data abstraction?\n",
    "#Data Abstraction in Python can be achieved through creating abstract classes and inheriting them later. "
   ]
  },
  {
   "cell_type": "code",
   "execution_count": null,
   "id": "65c5fa37-5f30-4f2d-825d-d4471a726f2b",
   "metadata": {},
   "outputs": [],
   "source": [
    "#\n",
    "An abstract class is a class that is declared abstract—it may or may not include abstract methods.\n",
    "Abstract classes cannot be instantiated, but they can be subclassed.\n",
    "When an abstract class is subclassed, the subclass usually provides implementations for all of the abstract methods in its parent class.\n",
    "However, if it does not, then the subclass must also be declared abstract."
   ]
  }
 ],
 "metadata": {
  "kernelspec": {
   "display_name": "Python 3 (ipykernel)",
   "language": "python",
   "name": "python3"
  },
  "language_info": {
   "codemirror_mode": {
    "name": "ipython",
    "version": 3
   },
   "file_extension": ".py",
   "mimetype": "text/x-python",
   "name": "python",
   "nbconvert_exporter": "python",
   "pygments_lexer": "ipython3",
   "version": "3.10.8"
  }
 },
 "nbformat": 4,
 "nbformat_minor": 5
}
